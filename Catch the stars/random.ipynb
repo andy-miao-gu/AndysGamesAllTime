{
 "cells": [
  {
   "cell_type": "code",
   "execution_count": 2,
   "metadata": {},
   "outputs": [
    {
     "data": {
      "text/plain": [
       "50"
      ]
     },
     "execution_count": 2,
     "metadata": {},
     "output_type": "execute_result"
    }
   ],
   "source": [
    "import math\n",
    "\n",
    "def use_all_symbols(a, n):\n",
    "    total_strings = a ** n  # Total number of strings without any restrictions\n",
    "    count = total_strings\n",
    "    for k in range(1, a):\n",
    "        coefficient = (-1) ** (k+1) * math.comb(a, k)\n",
    "        remaining_symbols = a - k\n",
    "        count += coefficient * (remaining_symbols ** n)\n",
    "    return count\n",
    "\n",
    "use_all_symbols(5,2)"
   ]
  },
  {
   "cell_type": "code",
   "execution_count": null,
   "metadata": {},
   "outputs": [],
   "source": []
  }
 ],
 "metadata": {
  "kernelspec": {
   "display_name": "CodingSchool",
   "language": "python",
   "name": "python3"
  },
  "language_info": {
   "codemirror_mode": {
    "name": "ipython",
    "version": 3
   },
   "file_extension": ".py",
   "mimetype": "text/x-python",
   "name": "python",
   "nbconvert_exporter": "python",
   "pygments_lexer": "ipython3",
   "version": "3.10.9"
  }
 },
 "nbformat": 4,
 "nbformat_minor": 2
}
